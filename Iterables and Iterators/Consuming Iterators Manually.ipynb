{
  "cells": [
    {
      "cell_type": "markdown",
      "metadata": {
        "id": "view-in-github",
        "colab_type": "text"
      },
      "source": [
        "<a href=\"https://colab.research.google.com/github/omugale21/project-demo/blob/main/Iterables%20and%20Iterators/Consuming%20Iterators%20Manually.ipynb\" target=\"_parent\"><img src=\"https://colab.research.google.com/assets/colab-badge.svg\" alt=\"Open In Colab\"/></a>"
      ]
    },
    {
      "cell_type": "code",
      "execution_count": null,
      "metadata": {
        "id": "WwX5d20qLF73"
      },
      "outputs": [],
      "source": [
        "# Consuming Iterators Manually"
      ]
    },
    {
      "cell_type": "code",
      "execution_count": null,
      "metadata": {
        "id": "xtffCG5jLF75"
      },
      "outputs": [],
      "source": [
        "s = \"I like petite oranges\""
      ]
    },
    {
      "cell_type": "code",
      "execution_count": null,
      "metadata": {
        "id": "X41gPCC1LF75"
      },
      "outputs": [],
      "source": [
        "iter_s = iter(s)"
      ]
    },
    {
      "cell_type": "code",
      "execution_count": null,
      "metadata": {
        "id": "rkniWSlqLF76",
        "outputId": "2f499c31-41fd-4756-d77e-5a29e4700b39"
      },
      "outputs": [
        {
          "data": {
            "text/plain": [
              "<str_iterator at 0x7fd7f8b64518>"
            ]
          },
          "execution_count": 4,
          "metadata": {},
          "output_type": "execute_result"
        }
      ],
      "source": [
        "iter_s"
      ]
    },
    {
      "cell_type": "code",
      "execution_count": null,
      "metadata": {
        "id": "zV12oHU2LF77",
        "outputId": "c5ceae8c-afe0-4ead-926e-625cee212184"
      },
      "outputs": [
        {
          "data": {
            "text/plain": [
              "'l'"
            ]
          },
          "execution_count": 7,
          "metadata": {},
          "output_type": "execute_result"
        }
      ],
      "source": [
        "next(iter_s)"
      ]
    },
    {
      "cell_type": "code",
      "execution_count": null,
      "metadata": {
        "id": "mfQXX0LvLF77",
        "outputId": "a78355c0-122a-47cd-d965-63445144e362"
      },
      "outputs": [
        {
          "name": "stdout",
          "output_type": "stream",
          "text": [
            "Start Date ,Start Time,End Date,End Time,Event Title ,All Day Event,No End Time,Event Description,Contact ,Contact Email,Contact Phone,Location,Category,Mandatory,Registration,Maximum,Last Date To Register\n",
            "\n",
            "9/5/2011,3:00:00 PM,9/5/2011,,Social Studies Dept. Meeting,N,Y,Department meeting,Chris Gallagher,cgallagher@schoolwires.com,814-555-5179,High School,2,N,N,25,9/2/2011\n",
            "\n",
            "9/5/2011,6:00:00 PM,9/5/2011,8:00:00 PM,Curriculum Meeting,N,N,Curriculum Meeting,Chris Gallagher,cgallagher@schoolwires.com,814-555-5179,High School,2,N,N,25,9/2/2011\n",
            "\n"
          ]
        }
      ],
      "source": [
        "with open('samplecsv.csv') as file:\n",
        "    for line in file:\n",
        "        print(line)"
      ]
    },
    {
      "cell_type": "code",
      "execution_count": null,
      "metadata": {
        "id": "w9TM8KHYLF78",
        "outputId": "6b86545c-5e1f-4fff-e7e3-1d57b2fefcdf"
      },
      "outputs": [
        {
          "name": "stdout",
          "output_type": "stream",
          "text": [
            "Start Date ,Start Time,End Date,End Time,Event Title ,All Day Event,No End Time,Event Description,Contact ,Contact Email,Contact Phone,Location,Category,Mandatory,Registration,Maximum,Last Date To Register\n",
            "9/5/2011,3:00:00 PM,9/5/2011,,Social Studies Dept. Meeting,N,Y,Department meeting,Chris Gallagher,cgallagher@schoolwires.com,814-555-5179,High School,2,N,N,25,9/2/2011\n",
            "9/5/2011,6:00:00 PM,9/5/2011,8:00:00 PM,Curriculum Meeting,N,N,Curriculum Meeting,Chris Gallagher,cgallagher@schoolwires.com,814-555-5179,High School,2,N,N,25,9/2/2011\n"
          ]
        }
      ],
      "source": [
        "with open('samplecsv.csv') as file:\n",
        "    for line in file:\n",
        "        print(line, end='')"
      ]
    },
    {
      "cell_type": "code",
      "execution_count": null,
      "metadata": {
        "id": "GrtfraiaLF78",
        "outputId": "f6e86432-ffe4-4903-97c5-eb99567beacf"
      },
      "outputs": [
        {
          "name": "stdout",
          "output_type": "stream",
          "text": [
            "['Start Date ', 'Start Time', 'End Date', 'End Time', 'Event Title ', 'All Day Event', 'No End Time', 'Event Description', 'Contact ', 'Contact Email', 'Contact Phone', 'Location', 'Category', 'Mandatory', 'Registration', 'Maximum', 'Last Date To Register']\n",
            "['9/5/2011', '3:00:00 PM', '9/5/2011', '', 'Social Studies Dept. Meeting', 'N', 'Y', 'Department meeting', 'Chris Gallagher', 'cgallagher@schoolwires.com', '814-555-5179', 'High School', '2', 'N', 'N', '25', '9/2/2011']\n",
            "['9/5/2011', '6:00:00 PM', '9/5/2011', '8:00:00 PM', 'Curriculum Meeting', 'N', 'N', 'Curriculum Meeting', 'Chris Gallagher', 'cgallagher@schoolwires.com', '814-555-5179', 'High School', '2', 'N', 'N', '25', '9/2/2011']\n"
          ]
        }
      ],
      "source": [
        "with open('samplecsv.csv') as file:\n",
        "    row_index = 0\n",
        "    for line in file:\n",
        "        if row_index == 0:\n",
        "            # header row\n",
        "            headers = line.strip('\\n').split(',')\n",
        "            print(headers)\n",
        "        else:\n",
        "            data = line.strip('\\n').split(',')\n",
        "            print(data)\n",
        ""
      ]
    },
    {
      "cell_type": "code",
      "execution_count": null,
      "metadata": {
        "id": "cF_qXuGGLF78",
        "outputId": "5d3fe18d-cff2-4342-9fc4-0685df7df033"
      },
      "outputs": [
        {
          "name": "stdout",
          "output_type": "stream",
          "text": [
            "['START DATE ', 'START TIME', 'END DATE', 'END TIME', 'EVENT TITLE ', 'ALL DAY EVENT', 'NO END TIME', 'EVENT DESCRIPTION', 'CONTACT ', 'CONTACT EMAIL', 'CONTACT PHONE', 'LOCATION', 'CATEGORY', 'MANDATORY', 'REGISTRATION', 'MAXIMUM', 'LAST DATE TO REGISTER']\n"
          ]
        }
      ],
      "source": [
        "from collections import namedtuple\n",
        "\n",
        "with open('samplecsv.csv') as file:\n",
        "    file_iter = iter(file)\n",
        "    headers = next(file_iter).strip('\\n').upper().split(',')\n",
        "    print(headers)"
      ]
    },
    {
      "cell_type": "code",
      "execution_count": null,
      "metadata": {
        "id": "fE99puABLF79",
        "outputId": "418e5a07-89a9-4398-abc1-ca62430b37fe"
      },
      "outputs": [
        {
          "name": "stdout",
          "output_type": "stream",
          "text": [
            "Help on method_descriptor:\n",
            "\n",
            "strip(self, chars=None, /)\n",
            "    Return a copy of the string with leading and trailing whitespace remove.\n",
            "    \n",
            "    If chars is given and not None, remove characters in chars instead.\n",
            "\n"
          ]
        }
      ],
      "source": [
        "help(str.strip)"
      ]
    },
    {
      "cell_type": "code",
      "execution_count": null,
      "metadata": {
        "id": "Zf5i4Uu0LF79",
        "outputId": "7a26d138-5305-407e-bbd0-2d32ac278e9d"
      },
      "outputs": [
        {
          "name": "stdout",
          "output_type": "stream",
          "text": [
            "['START DATE ', 'START TIME', 'END DATE', 'END TIME', 'EVENT TITLE ', 'ALL DAY EVENT', 'NO END TIME', 'EVENT DESCRIPTION', 'CONTACT ', 'CONTACT EMAIL', 'CONTACT PHONE', 'LOCATION', 'CATEGORY', 'MANDATORY', 'REGISTRATION', 'MAXIMUM', 'LAST DATE TO REGISTER']\n",
            "9/5/2011,3:00:00 PM,9/5/2011,,Social Studies Dept. Meeting,N,Y,Department meeting,Chris Gallagher,cgallagher@schoolwires.com,814-555-5179,High School,2,N,N,25,9/2/2011\n",
            "\n",
            "9/5/2011,6:00:00 PM,9/5/2011,8:00:00 PM,Curriculum Meeting,N,N,Curriculum Meeting,Chris Gallagher,cgallagher@schoolwires.com,814-555-5179,High School,2,N,N,25,9/2/2011\n",
            "\n"
          ]
        }
      ],
      "source": [
        "with open('samplecsv.csv') as file:\n",
        "    file_iter = iter(file)\n",
        "    headers = next(file_iter).strip('\\n').upper().split(',')\n",
        "    print(headers)\n",
        "    for word in file_iter:\n",
        "        print(word)"
      ]
    },
    {
      "cell_type": "code",
      "execution_count": null,
      "metadata": {
        "id": "-GrBtUVYLF79",
        "outputId": "213b2655-667a-4e9b-be1f-9dcb86185a62"
      },
      "outputs": [
        {
          "data": {
            "text/plain": [
              "'dklj / dk\\n d lk \\n k'"
            ]
          },
          "execution_count": 14,
          "metadata": {},
          "output_type": "execute_result"
        }
      ],
      "source": [
        "s.strip(' ')"
      ]
    },
    {
      "cell_type": "code",
      "execution_count": null,
      "metadata": {
        "id": "QLn0PptiLF79"
      },
      "outputs": [],
      "source": []
    }
  ],
  "metadata": {
    "kernelspec": {
      "display_name": "Python 3",
      "language": "python",
      "name": "python3"
    },
    "language_info": {
      "codemirror_mode": {
        "name": "ipython",
        "version": 3
      },
      "file_extension": ".py",
      "mimetype": "text/x-python",
      "name": "python",
      "nbconvert_exporter": "python",
      "pygments_lexer": "ipython3",
      "version": "3.7.3"
    },
    "colab": {
      "provenance": [],
      "include_colab_link": true
    }
  },
  "nbformat": 4,
  "nbformat_minor": 0
}